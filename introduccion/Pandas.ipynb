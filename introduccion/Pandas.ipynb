{
 "cells": [
  {
   "cell_type": "code",
   "execution_count": 9,
   "id": "898b8718",
   "metadata": {},
   "outputs": [],
   "source": [
    "import pandas as pd\n",
    "import numpy as np"
   ]
  },
  {
   "cell_type": "markdown",
   "id": "1be59692",
   "metadata": {},
   "source": [
    "# Creando un DataFrame"
   ]
  },
  {
   "cell_type": "code",
   "execution_count": 10,
   "id": "02f3047d",
   "metadata": {},
   "outputs": [],
   "source": [
    "df = pd.read_csv('./mastermind.csv', index_col=[0])"
   ]
  },
  {
   "cell_type": "code",
   "execution_count": 11,
   "id": "61effdcf",
   "metadata": {},
   "outputs": [
    {
     "data": {
      "text/html": [
       "<div>\n",
       "<style scoped>\n",
       "    .dataframe tbody tr th:only-of-type {\n",
       "        vertical-align: middle;\n",
       "    }\n",
       "\n",
       "    .dataframe tbody tr th {\n",
       "        vertical-align: top;\n",
       "    }\n",
       "\n",
       "    .dataframe thead th {\n",
       "        text-align: right;\n",
       "    }\n",
       "</style>\n",
       "<table border=\"1\" class=\"dataframe\">\n",
       "  <thead>\n",
       "    <tr style=\"text-align: right;\">\n",
       "      <th></th>\n",
       "      <th>nombre</th>\n",
       "      <th>especialidad</th>\n",
       "      <th>edad</th>\n",
       "      <th>visitas</th>\n",
       "      <th>sexo</th>\n",
       "    </tr>\n",
       "  </thead>\n",
       "  <tbody>\n",
       "    <tr>\n",
       "      <th>0</th>\n",
       "      <td>SFDX Show</td>\n",
       "      <td>Hardware</td>\n",
       "      <td>30</td>\n",
       "      <td>130855</td>\n",
       "      <td>H</td>\n",
       "    </tr>\n",
       "    <tr>\n",
       "      <th>1</th>\n",
       "      <td>Sara Nogark</td>\n",
       "      <td>Edición de vídeo</td>\n",
       "      <td>29</td>\n",
       "      <td>114175</td>\n",
       "      <td>M</td>\n",
       "    </tr>\n",
       "    <tr>\n",
       "      <th>2</th>\n",
       "      <td>Nate Gentile</td>\n",
       "      <td>Programación</td>\n",
       "      <td>31</td>\n",
       "      <td>142545</td>\n",
       "      <td>H</td>\n",
       "    </tr>\n",
       "    <tr>\n",
       "      <th>3</th>\n",
       "      <td>Bettatech</td>\n",
       "      <td>Programación</td>\n",
       "      <td>31</td>\n",
       "      <td>149462</td>\n",
       "      <td>H</td>\n",
       "    </tr>\n",
       "    <tr>\n",
       "      <th>4</th>\n",
       "      <td>Antonio Sarosi</td>\n",
       "      <td>Sistemas Operativos</td>\n",
       "      <td>28</td>\n",
       "      <td>132008</td>\n",
       "      <td>H</td>\n",
       "    </tr>\n",
       "    <tr>\n",
       "      <th>5</th>\n",
       "      <td>Edgar Pons</td>\n",
       "      <td>Robótica</td>\n",
       "      <td>29</td>\n",
       "      <td>143620</td>\n",
       "      <td>H</td>\n",
       "    </tr>\n",
       "    <tr>\n",
       "      <th>6</th>\n",
       "      <td>s4vitar</td>\n",
       "      <td>Hacking</td>\n",
       "      <td>28</td>\n",
       "      <td>132567</td>\n",
       "      <td>H</td>\n",
       "    </tr>\n",
       "  </tbody>\n",
       "</table>\n",
       "</div>"
      ],
      "text/plain": [
       "           nombre         especialidad  edad  visitas sexo\n",
       "0       SFDX Show             Hardware    30   130855    H\n",
       "1     Sara Nogark     Edición de vídeo    29   114175    M\n",
       "2    Nate Gentile         Programación    31   142545    H\n",
       "3       Bettatech         Programación    31   149462    H\n",
       "4  Antonio Sarosi  Sistemas Operativos    28   132008    H\n",
       "5      Edgar Pons             Robótica    29   143620    H\n",
       "6         s4vitar              Hacking    28   132567    H"
      ]
     },
     "execution_count": 11,
     "metadata": {},
     "output_type": "execute_result"
    }
   ],
   "source": [
    "df"
   ]
  },
  {
   "cell_type": "code",
   "execution_count": 13,
   "id": "ab79386b",
   "metadata": {},
   "outputs": [],
   "source": [
    "datos = {'nombre': list(df['nombre']), 'especialidad': list(df['especialidad']), 'edad': [np.random.randint(24, 31) for i in range(len(df['nombre']))], \n",
    "        'visitas': [np.random.randint(24, 31000) for i in range(len(df['nombre']))]}"
   ]
  },
  {
   "cell_type": "code",
   "execution_count": 14,
   "id": "821c30df",
   "metadata": {},
   "outputs": [
    {
     "data": {
      "text/plain": [
       "{'nombre': ['SFDX Show',\n",
       "  'Sara Nogark',\n",
       "  'Nate Gentile',\n",
       "  'Bettatech',\n",
       "  'Antonio Sarosi',\n",
       "  'Edgar Pons',\n",
       "  's4vitar'],\n",
       " 'especialidad': ['Hardware',\n",
       "  'Edición de vídeo',\n",
       "  'Programación',\n",
       "  'Programación',\n",
       "  'Sistemas Operativos',\n",
       "  'Robótica',\n",
       "  'Hacking'],\n",
       " 'edad': [29, 30, 28, 27, 29, 27, 24],\n",
       " 'visitas': [804, 15409, 21845, 13024, 4408, 24709, 21810]}"
      ]
     },
     "execution_count": 14,
     "metadata": {},
     "output_type": "execute_result"
    }
   ],
   "source": [
    "datos"
   ]
  },
  {
   "cell_type": "code",
   "execution_count": 16,
   "id": "38a6032e",
   "metadata": {},
   "outputs": [
    {
     "data": {
      "text/html": [
       "<div>\n",
       "<style scoped>\n",
       "    .dataframe tbody tr th:only-of-type {\n",
       "        vertical-align: middle;\n",
       "    }\n",
       "\n",
       "    .dataframe tbody tr th {\n",
       "        vertical-align: top;\n",
       "    }\n",
       "\n",
       "    .dataframe thead th {\n",
       "        text-align: right;\n",
       "    }\n",
       "</style>\n",
       "<table border=\"1\" class=\"dataframe\">\n",
       "  <thead>\n",
       "    <tr style=\"text-align: right;\">\n",
       "      <th></th>\n",
       "      <th>nombre</th>\n",
       "      <th>especialidad</th>\n",
       "      <th>edad</th>\n",
       "      <th>visitas</th>\n",
       "    </tr>\n",
       "  </thead>\n",
       "  <tbody>\n",
       "    <tr>\n",
       "      <th>0</th>\n",
       "      <td>SFDX Show</td>\n",
       "      <td>Hardware</td>\n",
       "      <td>29</td>\n",
       "      <td>804</td>\n",
       "    </tr>\n",
       "    <tr>\n",
       "      <th>1</th>\n",
       "      <td>Sara Nogark</td>\n",
       "      <td>Edición de vídeo</td>\n",
       "      <td>30</td>\n",
       "      <td>15409</td>\n",
       "    </tr>\n",
       "    <tr>\n",
       "      <th>2</th>\n",
       "      <td>Nate Gentile</td>\n",
       "      <td>Programación</td>\n",
       "      <td>28</td>\n",
       "      <td>21845</td>\n",
       "    </tr>\n",
       "    <tr>\n",
       "      <th>3</th>\n",
       "      <td>Bettatech</td>\n",
       "      <td>Programación</td>\n",
       "      <td>27</td>\n",
       "      <td>13024</td>\n",
       "    </tr>\n",
       "    <tr>\n",
       "      <th>4</th>\n",
       "      <td>Antonio Sarosi</td>\n",
       "      <td>Sistemas Operativos</td>\n",
       "      <td>29</td>\n",
       "      <td>4408</td>\n",
       "    </tr>\n",
       "    <tr>\n",
       "      <th>5</th>\n",
       "      <td>Edgar Pons</td>\n",
       "      <td>Robótica</td>\n",
       "      <td>27</td>\n",
       "      <td>24709</td>\n",
       "    </tr>\n",
       "    <tr>\n",
       "      <th>6</th>\n",
       "      <td>s4vitar</td>\n",
       "      <td>Hacking</td>\n",
       "      <td>24</td>\n",
       "      <td>21810</td>\n",
       "    </tr>\n",
       "  </tbody>\n",
       "</table>\n",
       "</div>"
      ],
      "text/plain": [
       "           nombre         especialidad  edad  visitas\n",
       "0       SFDX Show             Hardware    29      804\n",
       "1     Sara Nogark     Edición de vídeo    30    15409\n",
       "2    Nate Gentile         Programación    28    21845\n",
       "3       Bettatech         Programación    27    13024\n",
       "4  Antonio Sarosi  Sistemas Operativos    29     4408\n",
       "5      Edgar Pons             Robótica    27    24709\n",
       "6         s4vitar              Hacking    24    21810"
      ]
     },
     "execution_count": 16,
     "metadata": {},
     "output_type": "execute_result"
    }
   ],
   "source": [
    "df_inventado = pd.DataFrame(datos)\n",
    "df_inventado"
   ]
  },
  {
   "cell_type": "code",
   "execution_count": 19,
   "id": "2d5aa0d4",
   "metadata": {},
   "outputs": [],
   "source": [
    "df_inventado['sexo'] = ['H', 'H', 'M', 'H', 'H', 'M', 'H']"
   ]
  },
  {
   "cell_type": "code",
   "execution_count": 20,
   "id": "c88817bb",
   "metadata": {},
   "outputs": [
    {
     "data": {
      "text/html": [
       "<div>\n",
       "<style scoped>\n",
       "    .dataframe tbody tr th:only-of-type {\n",
       "        vertical-align: middle;\n",
       "    }\n",
       "\n",
       "    .dataframe tbody tr th {\n",
       "        vertical-align: top;\n",
       "    }\n",
       "\n",
       "    .dataframe thead th {\n",
       "        text-align: right;\n",
       "    }\n",
       "</style>\n",
       "<table border=\"1\" class=\"dataframe\">\n",
       "  <thead>\n",
       "    <tr style=\"text-align: right;\">\n",
       "      <th></th>\n",
       "      <th>nombre</th>\n",
       "      <th>especialidad</th>\n",
       "      <th>edad</th>\n",
       "      <th>visitas</th>\n",
       "      <th>sexo</th>\n",
       "    </tr>\n",
       "  </thead>\n",
       "  <tbody>\n",
       "    <tr>\n",
       "      <th>0</th>\n",
       "      <td>SFDX Show</td>\n",
       "      <td>Hardware</td>\n",
       "      <td>29</td>\n",
       "      <td>804</td>\n",
       "      <td>H</td>\n",
       "    </tr>\n",
       "    <tr>\n",
       "      <th>1</th>\n",
       "      <td>Sara Nogark</td>\n",
       "      <td>Edición de vídeo</td>\n",
       "      <td>30</td>\n",
       "      <td>15409</td>\n",
       "      <td>H</td>\n",
       "    </tr>\n",
       "    <tr>\n",
       "      <th>2</th>\n",
       "      <td>Nate Gentile</td>\n",
       "      <td>Programación</td>\n",
       "      <td>28</td>\n",
       "      <td>21845</td>\n",
       "      <td>M</td>\n",
       "    </tr>\n",
       "    <tr>\n",
       "      <th>3</th>\n",
       "      <td>Bettatech</td>\n",
       "      <td>Programación</td>\n",
       "      <td>27</td>\n",
       "      <td>13024</td>\n",
       "      <td>H</td>\n",
       "    </tr>\n",
       "    <tr>\n",
       "      <th>4</th>\n",
       "      <td>Antonio Sarosi</td>\n",
       "      <td>Sistemas Operativos</td>\n",
       "      <td>29</td>\n",
       "      <td>4408</td>\n",
       "      <td>H</td>\n",
       "    </tr>\n",
       "    <tr>\n",
       "      <th>5</th>\n",
       "      <td>Edgar Pons</td>\n",
       "      <td>Robótica</td>\n",
       "      <td>27</td>\n",
       "      <td>24709</td>\n",
       "      <td>M</td>\n",
       "    </tr>\n",
       "    <tr>\n",
       "      <th>6</th>\n",
       "      <td>s4vitar</td>\n",
       "      <td>Hacking</td>\n",
       "      <td>24</td>\n",
       "      <td>21810</td>\n",
       "      <td>H</td>\n",
       "    </tr>\n",
       "  </tbody>\n",
       "</table>\n",
       "</div>"
      ],
      "text/plain": [
       "           nombre         especialidad  edad  visitas sexo\n",
       "0       SFDX Show             Hardware    29      804    H\n",
       "1     Sara Nogark     Edición de vídeo    30    15409    H\n",
       "2    Nate Gentile         Programación    28    21845    M\n",
       "3       Bettatech         Programación    27    13024    H\n",
       "4  Antonio Sarosi  Sistemas Operativos    29     4408    H\n",
       "5      Edgar Pons             Robótica    27    24709    M\n",
       "6         s4vitar              Hacking    24    21810    H"
      ]
     },
     "execution_count": 20,
     "metadata": {},
     "output_type": "execute_result"
    }
   ],
   "source": [
    "df_inventado"
   ]
  },
  {
   "cell_type": "markdown",
   "id": "85936b51",
   "metadata": {},
   "source": [
    "# Explorando un DataFrame"
   ]
  },
  {
   "cell_type": "markdown",
   "id": "d9fbde47",
   "metadata": {},
   "source": [
    "## df.head()"
   ]
  },
  {
   "cell_type": "code",
   "execution_count": 24,
   "id": "198d5568",
   "metadata": {},
   "outputs": [
    {
     "data": {
      "text/html": [
       "<div>\n",
       "<style scoped>\n",
       "    .dataframe tbody tr th:only-of-type {\n",
       "        vertical-align: middle;\n",
       "    }\n",
       "\n",
       "    .dataframe tbody tr th {\n",
       "        vertical-align: top;\n",
       "    }\n",
       "\n",
       "    .dataframe thead th {\n",
       "        text-align: right;\n",
       "    }\n",
       "</style>\n",
       "<table border=\"1\" class=\"dataframe\">\n",
       "  <thead>\n",
       "    <tr style=\"text-align: right;\">\n",
       "      <th></th>\n",
       "      <th>nombre</th>\n",
       "      <th>especialidad</th>\n",
       "      <th>edad</th>\n",
       "      <th>visitas</th>\n",
       "      <th>sexo</th>\n",
       "    </tr>\n",
       "  </thead>\n",
       "  <tbody>\n",
       "    <tr>\n",
       "      <th>0</th>\n",
       "      <td>SFDX Show</td>\n",
       "      <td>Hardware</td>\n",
       "      <td>30</td>\n",
       "      <td>130855</td>\n",
       "      <td>H</td>\n",
       "    </tr>\n",
       "    <tr>\n",
       "      <th>1</th>\n",
       "      <td>Sara Nogark</td>\n",
       "      <td>Edición de vídeo</td>\n",
       "      <td>29</td>\n",
       "      <td>114175</td>\n",
       "      <td>M</td>\n",
       "    </tr>\n",
       "    <tr>\n",
       "      <th>2</th>\n",
       "      <td>Nate Gentile</td>\n",
       "      <td>Programación</td>\n",
       "      <td>31</td>\n",
       "      <td>142545</td>\n",
       "      <td>H</td>\n",
       "    </tr>\n",
       "  </tbody>\n",
       "</table>\n",
       "</div>"
      ],
      "text/plain": [
       "         nombre      especialidad  edad  visitas sexo\n",
       "0     SFDX Show          Hardware    30   130855    H\n",
       "1   Sara Nogark  Edición de vídeo    29   114175    M\n",
       "2  Nate Gentile      Programación    31   142545    H"
      ]
     },
     "execution_count": 24,
     "metadata": {},
     "output_type": "execute_result"
    }
   ],
   "source": [
    "df.head(3)"
   ]
  },
  {
   "cell_type": "markdown",
   "id": "b7299ab4",
   "metadata": {},
   "source": [
    "## df.tail()"
   ]
  },
  {
   "cell_type": "code",
   "execution_count": 26,
   "id": "8d3bba76",
   "metadata": {},
   "outputs": [
    {
     "data": {
      "text/html": [
       "<div>\n",
       "<style scoped>\n",
       "    .dataframe tbody tr th:only-of-type {\n",
       "        vertical-align: middle;\n",
       "    }\n",
       "\n",
       "    .dataframe tbody tr th {\n",
       "        vertical-align: top;\n",
       "    }\n",
       "\n",
       "    .dataframe thead th {\n",
       "        text-align: right;\n",
       "    }\n",
       "</style>\n",
       "<table border=\"1\" class=\"dataframe\">\n",
       "  <thead>\n",
       "    <tr style=\"text-align: right;\">\n",
       "      <th></th>\n",
       "      <th>nombre</th>\n",
       "      <th>especialidad</th>\n",
       "      <th>edad</th>\n",
       "      <th>visitas</th>\n",
       "      <th>sexo</th>\n",
       "    </tr>\n",
       "  </thead>\n",
       "  <tbody>\n",
       "    <tr>\n",
       "      <th>3</th>\n",
       "      <td>Bettatech</td>\n",
       "      <td>Programación</td>\n",
       "      <td>31</td>\n",
       "      <td>149462</td>\n",
       "      <td>H</td>\n",
       "    </tr>\n",
       "    <tr>\n",
       "      <th>4</th>\n",
       "      <td>Antonio Sarosi</td>\n",
       "      <td>Sistemas Operativos</td>\n",
       "      <td>28</td>\n",
       "      <td>132008</td>\n",
       "      <td>H</td>\n",
       "    </tr>\n",
       "    <tr>\n",
       "      <th>5</th>\n",
       "      <td>Edgar Pons</td>\n",
       "      <td>Robótica</td>\n",
       "      <td>29</td>\n",
       "      <td>143620</td>\n",
       "      <td>H</td>\n",
       "    </tr>\n",
       "    <tr>\n",
       "      <th>6</th>\n",
       "      <td>s4vitar</td>\n",
       "      <td>Hacking</td>\n",
       "      <td>28</td>\n",
       "      <td>132567</td>\n",
       "      <td>H</td>\n",
       "    </tr>\n",
       "  </tbody>\n",
       "</table>\n",
       "</div>"
      ],
      "text/plain": [
       "           nombre         especialidad  edad  visitas sexo\n",
       "3       Bettatech         Programación    31   149462    H\n",
       "4  Antonio Sarosi  Sistemas Operativos    28   132008    H\n",
       "5      Edgar Pons             Robótica    29   143620    H\n",
       "6         s4vitar              Hacking    28   132567    H"
      ]
     },
     "execution_count": 26,
     "metadata": {},
     "output_type": "execute_result"
    }
   ],
   "source": [
    "df.tail(4)"
   ]
  },
  {
   "cell_type": "markdown",
   "id": "ea57b89c",
   "metadata": {},
   "source": [
    "## df.sample()"
   ]
  },
  {
   "cell_type": "code",
   "execution_count": 28,
   "id": "d4c00a87",
   "metadata": {},
   "outputs": [
    {
     "data": {
      "text/html": [
       "<div>\n",
       "<style scoped>\n",
       "    .dataframe tbody tr th:only-of-type {\n",
       "        vertical-align: middle;\n",
       "    }\n",
       "\n",
       "    .dataframe tbody tr th {\n",
       "        vertical-align: top;\n",
       "    }\n",
       "\n",
       "    .dataframe thead th {\n",
       "        text-align: right;\n",
       "    }\n",
       "</style>\n",
       "<table border=\"1\" class=\"dataframe\">\n",
       "  <thead>\n",
       "    <tr style=\"text-align: right;\">\n",
       "      <th></th>\n",
       "      <th>nombre</th>\n",
       "      <th>especialidad</th>\n",
       "      <th>edad</th>\n",
       "      <th>visitas</th>\n",
       "      <th>sexo</th>\n",
       "    </tr>\n",
       "  </thead>\n",
       "  <tbody>\n",
       "    <tr>\n",
       "      <th>5</th>\n",
       "      <td>Edgar Pons</td>\n",
       "      <td>Robótica</td>\n",
       "      <td>29</td>\n",
       "      <td>143620</td>\n",
       "      <td>H</td>\n",
       "    </tr>\n",
       "    <tr>\n",
       "      <th>2</th>\n",
       "      <td>Nate Gentile</td>\n",
       "      <td>Programación</td>\n",
       "      <td>31</td>\n",
       "      <td>142545</td>\n",
       "      <td>H</td>\n",
       "    </tr>\n",
       "  </tbody>\n",
       "</table>\n",
       "</div>"
      ],
      "text/plain": [
       "         nombre  especialidad  edad  visitas sexo\n",
       "5    Edgar Pons      Robótica    29   143620    H\n",
       "2  Nate Gentile  Programación    31   142545    H"
      ]
     },
     "execution_count": 28,
     "metadata": {},
     "output_type": "execute_result"
    }
   ],
   "source": [
    "df.sample(2)"
   ]
  },
  {
   "cell_type": "markdown",
   "id": "394025c5",
   "metadata": {},
   "source": [
    "## df.info()"
   ]
  },
  {
   "cell_type": "code",
   "execution_count": 29,
   "id": "69c18c1b",
   "metadata": {},
   "outputs": [
    {
     "name": "stdout",
     "output_type": "stream",
     "text": [
      "<class 'pandas.core.frame.DataFrame'>\n",
      "Int64Index: 7 entries, 0 to 6\n",
      "Data columns (total 5 columns):\n",
      " #   Column        Non-Null Count  Dtype \n",
      "---  ------        --------------  ----- \n",
      " 0   nombre        7 non-null      object\n",
      " 1   especialidad  7 non-null      object\n",
      " 2   edad          7 non-null      int64 \n",
      " 3   visitas       7 non-null      int64 \n",
      " 4   sexo          7 non-null      object\n",
      "dtypes: int64(2), object(3)\n",
      "memory usage: 336.0+ bytes\n"
     ]
    }
   ],
   "source": [
    "df.info()"
   ]
  },
  {
   "cell_type": "markdown",
   "id": "156b31da",
   "metadata": {},
   "source": [
    "## df.describe()"
   ]
  },
  {
   "cell_type": "code",
   "execution_count": 31,
   "id": "b269161d",
   "metadata": {},
   "outputs": [
    {
     "data": {
      "text/html": [
       "<div>\n",
       "<style scoped>\n",
       "    .dataframe tbody tr th:only-of-type {\n",
       "        vertical-align: middle;\n",
       "    }\n",
       "\n",
       "    .dataframe tbody tr th {\n",
       "        vertical-align: top;\n",
       "    }\n",
       "\n",
       "    .dataframe thead th {\n",
       "        text-align: right;\n",
       "    }\n",
       "</style>\n",
       "<table border=\"1\" class=\"dataframe\">\n",
       "  <thead>\n",
       "    <tr style=\"text-align: right;\">\n",
       "      <th></th>\n",
       "      <th>edad</th>\n",
       "      <th>visitas</th>\n",
       "    </tr>\n",
       "  </thead>\n",
       "  <tbody>\n",
       "    <tr>\n",
       "      <th>count</th>\n",
       "      <td>7.000000</td>\n",
       "      <td>7.000000</td>\n",
       "    </tr>\n",
       "    <tr>\n",
       "      <th>mean</th>\n",
       "      <td>29.428571</td>\n",
       "      <td>135033.142857</td>\n",
       "    </tr>\n",
       "    <tr>\n",
       "      <th>std</th>\n",
       "      <td>1.272418</td>\n",
       "      <td>11590.990631</td>\n",
       "    </tr>\n",
       "    <tr>\n",
       "      <th>min</th>\n",
       "      <td>28.000000</td>\n",
       "      <td>114175.000000</td>\n",
       "    </tr>\n",
       "    <tr>\n",
       "      <th>25%</th>\n",
       "      <td>28.500000</td>\n",
       "      <td>131431.500000</td>\n",
       "    </tr>\n",
       "    <tr>\n",
       "      <th>50%</th>\n",
       "      <td>29.000000</td>\n",
       "      <td>132567.000000</td>\n",
       "    </tr>\n",
       "    <tr>\n",
       "      <th>75%</th>\n",
       "      <td>30.500000</td>\n",
       "      <td>143082.500000</td>\n",
       "    </tr>\n",
       "    <tr>\n",
       "      <th>max</th>\n",
       "      <td>31.000000</td>\n",
       "      <td>149462.000000</td>\n",
       "    </tr>\n",
       "  </tbody>\n",
       "</table>\n",
       "</div>"
      ],
      "text/plain": [
       "            edad        visitas\n",
       "count   7.000000       7.000000\n",
       "mean   29.428571  135033.142857\n",
       "std     1.272418   11590.990631\n",
       "min    28.000000  114175.000000\n",
       "25%    28.500000  131431.500000\n",
       "50%    29.000000  132567.000000\n",
       "75%    30.500000  143082.500000\n",
       "max    31.000000  149462.000000"
      ]
     },
     "execution_count": 31,
     "metadata": {},
     "output_type": "execute_result"
    }
   ],
   "source": [
    "df.describe()"
   ]
  },
  {
   "cell_type": "markdown",
   "id": "24580f06",
   "metadata": {},
   "source": [
    "## df.shape"
   ]
  },
  {
   "cell_type": "code",
   "execution_count": 32,
   "id": "ee824398",
   "metadata": {},
   "outputs": [
    {
     "data": {
      "text/plain": [
       "(7, 5)"
      ]
     },
     "execution_count": 32,
     "metadata": {},
     "output_type": "execute_result"
    }
   ],
   "source": [
    "df.shape"
   ]
  },
  {
   "cell_type": "markdown",
   "id": "11e609d2",
   "metadata": {},
   "source": [
    "## df.columns"
   ]
  },
  {
   "cell_type": "code",
   "execution_count": 34,
   "id": "7503d7fb",
   "metadata": {},
   "outputs": [],
   "source": [
    "df.columns = ['nombre', 'especialidad', 'viejo', 'visitas', 'sexo']"
   ]
  },
  {
   "cell_type": "code",
   "execution_count": 35,
   "id": "c51195a7",
   "metadata": {},
   "outputs": [
    {
     "data": {
      "text/html": [
       "<div>\n",
       "<style scoped>\n",
       "    .dataframe tbody tr th:only-of-type {\n",
       "        vertical-align: middle;\n",
       "    }\n",
       "\n",
       "    .dataframe tbody tr th {\n",
       "        vertical-align: top;\n",
       "    }\n",
       "\n",
       "    .dataframe thead th {\n",
       "        text-align: right;\n",
       "    }\n",
       "</style>\n",
       "<table border=\"1\" class=\"dataframe\">\n",
       "  <thead>\n",
       "    <tr style=\"text-align: right;\">\n",
       "      <th></th>\n",
       "      <th>nombre</th>\n",
       "      <th>especialidad</th>\n",
       "      <th>viejo</th>\n",
       "      <th>visitas</th>\n",
       "      <th>sexo</th>\n",
       "    </tr>\n",
       "  </thead>\n",
       "  <tbody>\n",
       "    <tr>\n",
       "      <th>0</th>\n",
       "      <td>SFDX Show</td>\n",
       "      <td>Hardware</td>\n",
       "      <td>30</td>\n",
       "      <td>130855</td>\n",
       "      <td>H</td>\n",
       "    </tr>\n",
       "    <tr>\n",
       "      <th>1</th>\n",
       "      <td>Sara Nogark</td>\n",
       "      <td>Edición de vídeo</td>\n",
       "      <td>29</td>\n",
       "      <td>114175</td>\n",
       "      <td>M</td>\n",
       "    </tr>\n",
       "    <tr>\n",
       "      <th>2</th>\n",
       "      <td>Nate Gentile</td>\n",
       "      <td>Programación</td>\n",
       "      <td>31</td>\n",
       "      <td>142545</td>\n",
       "      <td>H</td>\n",
       "    </tr>\n",
       "    <tr>\n",
       "      <th>3</th>\n",
       "      <td>Bettatech</td>\n",
       "      <td>Programación</td>\n",
       "      <td>31</td>\n",
       "      <td>149462</td>\n",
       "      <td>H</td>\n",
       "    </tr>\n",
       "    <tr>\n",
       "      <th>4</th>\n",
       "      <td>Antonio Sarosi</td>\n",
       "      <td>Sistemas Operativos</td>\n",
       "      <td>28</td>\n",
       "      <td>132008</td>\n",
       "      <td>H</td>\n",
       "    </tr>\n",
       "    <tr>\n",
       "      <th>5</th>\n",
       "      <td>Edgar Pons</td>\n",
       "      <td>Robótica</td>\n",
       "      <td>29</td>\n",
       "      <td>143620</td>\n",
       "      <td>H</td>\n",
       "    </tr>\n",
       "    <tr>\n",
       "      <th>6</th>\n",
       "      <td>s4vitar</td>\n",
       "      <td>Hacking</td>\n",
       "      <td>28</td>\n",
       "      <td>132567</td>\n",
       "      <td>H</td>\n",
       "    </tr>\n",
       "  </tbody>\n",
       "</table>\n",
       "</div>"
      ],
      "text/plain": [
       "           nombre         especialidad  viejo  visitas sexo\n",
       "0       SFDX Show             Hardware     30   130855    H\n",
       "1     Sara Nogark     Edición de vídeo     29   114175    M\n",
       "2    Nate Gentile         Programación     31   142545    H\n",
       "3       Bettatech         Programación     31   149462    H\n",
       "4  Antonio Sarosi  Sistemas Operativos     28   132008    H\n",
       "5      Edgar Pons             Robótica     29   143620    H\n",
       "6         s4vitar              Hacking     28   132567    H"
      ]
     },
     "execution_count": 35,
     "metadata": {},
     "output_type": "execute_result"
    }
   ],
   "source": [
    "df"
   ]
  },
  {
   "cell_type": "markdown",
   "id": "73261326",
   "metadata": {},
   "source": [
    "## df.index"
   ]
  },
  {
   "cell_type": "code",
   "execution_count": 36,
   "id": "14cd0ea3",
   "metadata": {},
   "outputs": [
    {
     "data": {
      "text/plain": [
       "Int64Index([0, 1, 2, 3, 4, 5, 6], dtype='int64')"
      ]
     },
     "execution_count": 36,
     "metadata": {},
     "output_type": "execute_result"
    }
   ],
   "source": [
    "df.index"
   ]
  },
  {
   "cell_type": "markdown",
   "id": "8e48e6ef",
   "metadata": {},
   "source": [
    "# Seleccion de elementos (Subset)"
   ]
  },
  {
   "cell_type": "markdown",
   "id": "a625d88d",
   "metadata": {},
   "source": [
    "## Acceso mediante etiquetas"
   ]
  },
  {
   "cell_type": "code",
   "execution_count": 38,
   "id": "b5c3fdb0",
   "metadata": {},
   "outputs": [
    {
     "data": {
      "text/html": [
       "<div>\n",
       "<style scoped>\n",
       "    .dataframe tbody tr th:only-of-type {\n",
       "        vertical-align: middle;\n",
       "    }\n",
       "\n",
       "    .dataframe tbody tr th {\n",
       "        vertical-align: top;\n",
       "    }\n",
       "\n",
       "    .dataframe thead th {\n",
       "        text-align: right;\n",
       "    }\n",
       "</style>\n",
       "<table border=\"1\" class=\"dataframe\">\n",
       "  <thead>\n",
       "    <tr style=\"text-align: right;\">\n",
       "      <th></th>\n",
       "      <th>nombre</th>\n",
       "      <th>especialidad</th>\n",
       "      <th>viejo</th>\n",
       "      <th>visitas</th>\n",
       "      <th>sexo</th>\n",
       "    </tr>\n",
       "  </thead>\n",
       "  <tbody>\n",
       "    <tr>\n",
       "      <th>0</th>\n",
       "      <td>SFDX Show</td>\n",
       "      <td>Hardware</td>\n",
       "      <td>30</td>\n",
       "      <td>130855</td>\n",
       "      <td>H</td>\n",
       "    </tr>\n",
       "    <tr>\n",
       "      <th>1</th>\n",
       "      <td>Sara Nogark</td>\n",
       "      <td>Edición de vídeo</td>\n",
       "      <td>29</td>\n",
       "      <td>114175</td>\n",
       "      <td>M</td>\n",
       "    </tr>\n",
       "    <tr>\n",
       "      <th>2</th>\n",
       "      <td>Nate Gentile</td>\n",
       "      <td>Programación</td>\n",
       "      <td>31</td>\n",
       "      <td>142545</td>\n",
       "      <td>H</td>\n",
       "    </tr>\n",
       "    <tr>\n",
       "      <th>3</th>\n",
       "      <td>Bettatech</td>\n",
       "      <td>Programación</td>\n",
       "      <td>31</td>\n",
       "      <td>149462</td>\n",
       "      <td>H</td>\n",
       "    </tr>\n",
       "    <tr>\n",
       "      <th>4</th>\n",
       "      <td>Antonio Sarosi</td>\n",
       "      <td>Sistemas Operativos</td>\n",
       "      <td>28</td>\n",
       "      <td>132008</td>\n",
       "      <td>H</td>\n",
       "    </tr>\n",
       "  </tbody>\n",
       "</table>\n",
       "</div>"
      ],
      "text/plain": [
       "           nombre         especialidad  viejo  visitas sexo\n",
       "0       SFDX Show             Hardware     30   130855    H\n",
       "1     Sara Nogark     Edición de vídeo     29   114175    M\n",
       "2    Nate Gentile         Programación     31   142545    H\n",
       "3       Bettatech         Programación     31   149462    H\n",
       "4  Antonio Sarosi  Sistemas Operativos     28   132008    H"
      ]
     },
     "execution_count": 38,
     "metadata": {},
     "output_type": "execute_result"
    }
   ],
   "source": [
    "df.head()"
   ]
  },
  {
   "cell_type": "code",
   "execution_count": 45,
   "id": "c199ac62",
   "metadata": {},
   "outputs": [
    {
     "data": {
      "text/plain": [
       "2    Programación\n",
       "Name: especialidad, dtype: object"
      ]
     },
     "execution_count": 45,
     "metadata": {},
     "output_type": "execute_result"
    }
   ],
   "source": [
    "df[df['nombre'] == 'Nate Gentile']['especialidad']"
   ]
  },
  {
   "cell_type": "code",
   "execution_count": 48,
   "id": "af081f36",
   "metadata": {},
   "outputs": [],
   "source": [
    "mas_viejos = df[df['viejo']==29]['nombre']"
   ]
  },
  {
   "cell_type": "markdown",
   "id": "82946a50",
   "metadata": {},
   "source": [
    "## df.iloc[]"
   ]
  },
  {
   "cell_type": "code",
   "execution_count": 50,
   "id": "8d370bf0",
   "metadata": {},
   "outputs": [
    {
     "data": {
      "text/plain": [
       "31"
      ]
     },
     "execution_count": 50,
     "metadata": {},
     "output_type": "execute_result"
    }
   ],
   "source": [
    "df.iloc[3,2]"
   ]
  },
  {
   "cell_type": "code",
   "execution_count": 52,
   "id": "fe9c9a86",
   "metadata": {},
   "outputs": [
    {
     "data": {
      "text/plain": [
       "nombre          Nate Gentile\n",
       "especialidad    Programación\n",
       "Name: 2, dtype: object"
      ]
     },
     "execution_count": 52,
     "metadata": {},
     "output_type": "execute_result"
    }
   ],
   "source": [
    "df.iloc[2,0:2]"
   ]
  },
  {
   "cell_type": "markdown",
   "id": "03447205",
   "metadata": {},
   "source": [
    "## df.loc()"
   ]
  },
  {
   "cell_type": "code",
   "execution_count": 55,
   "id": "a4c872a3",
   "metadata": {},
   "outputs": [
    {
     "data": {
      "text/plain": [
       "especialidad    Programación\n",
       "visitas               142545\n",
       "Name: 2, dtype: object"
      ]
     },
     "execution_count": 55,
     "metadata": {},
     "output_type": "execute_result"
    }
   ],
   "source": [
    "df.loc[2, ['especialidad','visitas']]"
   ]
  },
  {
   "cell_type": "markdown",
   "id": "f1b78b47",
   "metadata": {},
   "source": [
    "# Manipulacion de Datos"
   ]
  },
  {
   "cell_type": "markdown",
   "id": "c045e2cb",
   "metadata": {},
   "source": [
    "## Cambiar indice"
   ]
  },
  {
   "cell_type": "markdown",
   "id": "3cd1e327",
   "metadata": {},
   "source": [
    "### df.set_index()"
   ]
  },
  {
   "cell_type": "code",
   "execution_count": 58,
   "id": "b1720786",
   "metadata": {},
   "outputs": [],
   "source": [
    "df.set_index('nombre', inplace=True)"
   ]
  },
  {
   "cell_type": "code",
   "execution_count": 59,
   "id": "74816c44",
   "metadata": {},
   "outputs": [
    {
     "data": {
      "text/html": [
       "<div>\n",
       "<style scoped>\n",
       "    .dataframe tbody tr th:only-of-type {\n",
       "        vertical-align: middle;\n",
       "    }\n",
       "\n",
       "    .dataframe tbody tr th {\n",
       "        vertical-align: top;\n",
       "    }\n",
       "\n",
       "    .dataframe thead th {\n",
       "        text-align: right;\n",
       "    }\n",
       "</style>\n",
       "<table border=\"1\" class=\"dataframe\">\n",
       "  <thead>\n",
       "    <tr style=\"text-align: right;\">\n",
       "      <th></th>\n",
       "      <th>especialidad</th>\n",
       "      <th>viejo</th>\n",
       "      <th>visitas</th>\n",
       "      <th>sexo</th>\n",
       "    </tr>\n",
       "    <tr>\n",
       "      <th>nombre</th>\n",
       "      <th></th>\n",
       "      <th></th>\n",
       "      <th></th>\n",
       "      <th></th>\n",
       "    </tr>\n",
       "  </thead>\n",
       "  <tbody>\n",
       "    <tr>\n",
       "      <th>SFDX Show</th>\n",
       "      <td>Hardware</td>\n",
       "      <td>30</td>\n",
       "      <td>130855</td>\n",
       "      <td>H</td>\n",
       "    </tr>\n",
       "    <tr>\n",
       "      <th>Sara Nogark</th>\n",
       "      <td>Edición de vídeo</td>\n",
       "      <td>29</td>\n",
       "      <td>114175</td>\n",
       "      <td>M</td>\n",
       "    </tr>\n",
       "    <tr>\n",
       "      <th>Nate Gentile</th>\n",
       "      <td>Programación</td>\n",
       "      <td>31</td>\n",
       "      <td>142545</td>\n",
       "      <td>H</td>\n",
       "    </tr>\n",
       "    <tr>\n",
       "      <th>Bettatech</th>\n",
       "      <td>Programación</td>\n",
       "      <td>31</td>\n",
       "      <td>149462</td>\n",
       "      <td>H</td>\n",
       "    </tr>\n",
       "    <tr>\n",
       "      <th>Antonio Sarosi</th>\n",
       "      <td>Sistemas Operativos</td>\n",
       "      <td>28</td>\n",
       "      <td>132008</td>\n",
       "      <td>H</td>\n",
       "    </tr>\n",
       "    <tr>\n",
       "      <th>Edgar Pons</th>\n",
       "      <td>Robótica</td>\n",
       "      <td>29</td>\n",
       "      <td>143620</td>\n",
       "      <td>H</td>\n",
       "    </tr>\n",
       "    <tr>\n",
       "      <th>s4vitar</th>\n",
       "      <td>Hacking</td>\n",
       "      <td>28</td>\n",
       "      <td>132567</td>\n",
       "      <td>H</td>\n",
       "    </tr>\n",
       "  </tbody>\n",
       "</table>\n",
       "</div>"
      ],
      "text/plain": [
       "                       especialidad  viejo  visitas sexo\n",
       "nombre                                                  \n",
       "SFDX Show                  Hardware     30   130855    H\n",
       "Sara Nogark        Edición de vídeo     29   114175    M\n",
       "Nate Gentile           Programación     31   142545    H\n",
       "Bettatech              Programación     31   149462    H\n",
       "Antonio Sarosi  Sistemas Operativos     28   132008    H\n",
       "Edgar Pons                 Robótica     29   143620    H\n",
       "s4vitar                     Hacking     28   132567    H"
      ]
     },
     "execution_count": 59,
     "metadata": {},
     "output_type": "execute_result"
    }
   ],
   "source": [
    "df"
   ]
  },
  {
   "cell_type": "code",
   "execution_count": 60,
   "id": "ef3d487d",
   "metadata": {},
   "outputs": [
    {
     "data": {
      "text/html": [
       "<div>\n",
       "<style scoped>\n",
       "    .dataframe tbody tr th:only-of-type {\n",
       "        vertical-align: middle;\n",
       "    }\n",
       "\n",
       "    .dataframe tbody tr th {\n",
       "        vertical-align: top;\n",
       "    }\n",
       "\n",
       "    .dataframe thead th {\n",
       "        text-align: right;\n",
       "    }\n",
       "</style>\n",
       "<table border=\"1\" class=\"dataframe\">\n",
       "  <thead>\n",
       "    <tr style=\"text-align: right;\">\n",
       "      <th></th>\n",
       "      <th>nombre</th>\n",
       "      <th>especialidad</th>\n",
       "      <th>viejo</th>\n",
       "      <th>visitas</th>\n",
       "      <th>sexo</th>\n",
       "    </tr>\n",
       "  </thead>\n",
       "  <tbody>\n",
       "    <tr>\n",
       "      <th>0</th>\n",
       "      <td>SFDX Show</td>\n",
       "      <td>Hardware</td>\n",
       "      <td>30</td>\n",
       "      <td>130855</td>\n",
       "      <td>H</td>\n",
       "    </tr>\n",
       "    <tr>\n",
       "      <th>1</th>\n",
       "      <td>Sara Nogark</td>\n",
       "      <td>Edición de vídeo</td>\n",
       "      <td>29</td>\n",
       "      <td>114175</td>\n",
       "      <td>M</td>\n",
       "    </tr>\n",
       "    <tr>\n",
       "      <th>2</th>\n",
       "      <td>Nate Gentile</td>\n",
       "      <td>Programación</td>\n",
       "      <td>31</td>\n",
       "      <td>142545</td>\n",
       "      <td>H</td>\n",
       "    </tr>\n",
       "    <tr>\n",
       "      <th>3</th>\n",
       "      <td>Bettatech</td>\n",
       "      <td>Programación</td>\n",
       "      <td>31</td>\n",
       "      <td>149462</td>\n",
       "      <td>H</td>\n",
       "    </tr>\n",
       "    <tr>\n",
       "      <th>4</th>\n",
       "      <td>Antonio Sarosi</td>\n",
       "      <td>Sistemas Operativos</td>\n",
       "      <td>28</td>\n",
       "      <td>132008</td>\n",
       "      <td>H</td>\n",
       "    </tr>\n",
       "    <tr>\n",
       "      <th>5</th>\n",
       "      <td>Edgar Pons</td>\n",
       "      <td>Robótica</td>\n",
       "      <td>29</td>\n",
       "      <td>143620</td>\n",
       "      <td>H</td>\n",
       "    </tr>\n",
       "    <tr>\n",
       "      <th>6</th>\n",
       "      <td>s4vitar</td>\n",
       "      <td>Hacking</td>\n",
       "      <td>28</td>\n",
       "      <td>132567</td>\n",
       "      <td>H</td>\n",
       "    </tr>\n",
       "  </tbody>\n",
       "</table>\n",
       "</div>"
      ],
      "text/plain": [
       "           nombre         especialidad  viejo  visitas sexo\n",
       "0       SFDX Show             Hardware     30   130855    H\n",
       "1     Sara Nogark     Edición de vídeo     29   114175    M\n",
       "2    Nate Gentile         Programación     31   142545    H\n",
       "3       Bettatech         Programación     31   149462    H\n",
       "4  Antonio Sarosi  Sistemas Operativos     28   132008    H\n",
       "5      Edgar Pons             Robótica     29   143620    H\n",
       "6         s4vitar              Hacking     28   132567    H"
      ]
     },
     "execution_count": 60,
     "metadata": {},
     "output_type": "execute_result"
    }
   ],
   "source": [
    "df.reset_index()"
   ]
  },
  {
   "cell_type": "code",
   "execution_count": null,
   "id": "86dc31bc",
   "metadata": {},
   "outputs": [],
   "source": []
  }
 ],
 "metadata": {
  "kernelspec": {
   "display_name": "Python 3 (ipykernel)",
   "language": "python",
   "name": "python3"
  },
  "language_info": {
   "codemirror_mode": {
    "name": "ipython",
    "version": 3
   },
   "file_extension": ".py",
   "mimetype": "text/x-python",
   "name": "python",
   "nbconvert_exporter": "python",
   "pygments_lexer": "ipython3",
   "version": "3.9.7"
  },
  "toc": {
   "base_numbering": 1,
   "nav_menu": {},
   "number_sections": true,
   "sideBar": true,
   "skip_h1_title": false,
   "title_cell": "Table of Contents",
   "title_sidebar": "Contents",
   "toc_cell": false,
   "toc_position": {},
   "toc_section_display": true,
   "toc_window_display": false
  }
 },
 "nbformat": 4,
 "nbformat_minor": 5
}
